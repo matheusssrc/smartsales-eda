{
 "cells": [
  {
   "cell_type": "markdown",
   "id": "44d89a1e",
   "metadata": {},
   "source": [
    "\n",
    "# SmartSales – Análise Exploratória (EDA) e KPIs\n",
    "\n",
    "Este notebook roda **no Colab** ou **local (VS Code/Jupyter)**. A primeira célula:\n",
    "1. **Instala dependências** se faltarem.\n",
    "2. Faz **autenticação híbrida** (Colab = sua conta Google; Local = Service Account via `GDRIVE_SA_JSON`).\n",
    "3. Se encontrar `data/samples/SmartSales_Dados.csv`, roda em **modo offline** com **dimensões sintéticas** (Produtos, Clientes, Vendedores) geradas de forma determinística a partir dos IDs.\n"
   ]
  },
  {
   "cell_type": "code",
   "execution_count": 1,
   "id": "ae8f2282",
   "metadata": {},
   "outputs": [
    {
     "ename": "ModuleNotFoundError",
     "evalue": "No module named 'pandas'",
     "output_type": "error",
     "traceback": [
      "\u001b[31m---------------------------------------------------------------------------\u001b[39m",
      "\u001b[31mModuleNotFoundError\u001b[39m                       Traceback (most recent call last)",
      "\u001b[36mCell\u001b[39m\u001b[36m \u001b[39m\u001b[32mIn[1]\u001b[39m\u001b[32m, line 3\u001b[39m\n\u001b[32m      1\u001b[39m \u001b[38;5;66;03m# 🚀 Bootstrap: deps + auth + utils\u001b[39;00m\n\u001b[32m      2\u001b[39m \u001b[38;5;28;01mimport\u001b[39;00m\u001b[38;5;250m \u001b[39m\u001b[34;01mos\u001b[39;00m,\u001b[38;5;250m \u001b[39m\u001b[34;01msys\u001b[39;00m,\u001b[38;5;250m \u001b[39m\u001b[34;01msubprocess\u001b[39;00m,\u001b[38;5;250m \u001b[39m\u001b[34;01mimportlib\u001b[39;00m,\u001b[38;5;250m \u001b[39m\u001b[34;01mhashlib\u001b[39;00m,\u001b[38;5;250m \u001b[39m\u001b[34;01mmath\u001b[39;00m,\u001b[38;5;250m \u001b[39m\u001b[34;01mrandom\u001b[39;00m\n\u001b[32m----> \u001b[39m\u001b[32m3\u001b[39m \u001b[38;5;28;01mimport\u001b[39;00m\u001b[38;5;250m \u001b[39m\u001b[34;01mpandas\u001b[39;00m\u001b[38;5;250m \u001b[39m\u001b[38;5;28;01mas\u001b[39;00m\u001b[38;5;250m \u001b[39m\u001b[34;01mpd\u001b[39;00m\n\u001b[32m      5\u001b[39m REQUIRED = [\u001b[33m\"\u001b[39m\u001b[33mpandas\u001b[39m\u001b[33m\"\u001b[39m,\u001b[33m\"\u001b[39m\u001b[33mgspread\u001b[39m\u001b[33m\"\u001b[39m,\u001b[33m\"\u001b[39m\u001b[33mgoogle-auth\u001b[39m\u001b[33m\"\u001b[39m,\u001b[33m\"\u001b[39m\u001b[33mgoogle-auth-oauthlib\u001b[39m\u001b[33m\"\u001b[39m,\u001b[33m\"\u001b[39m\u001b[33mmatplotlib\u001b[39m\u001b[33m\"\u001b[39m]\n\u001b[32m      6\u001b[39m \u001b[38;5;28;01mdef\u001b[39;00m\u001b[38;5;250m \u001b[39m\u001b[34mensure\u001b[39m(pkgs):\n",
      "\u001b[31mModuleNotFoundError\u001b[39m: No module named 'pandas'"
     ]
    }
   ],
   "source": [
    "\n",
    "# 🚀 Bootstrap: deps + auth + utils\n",
    "import os, sys, subprocess, importlib, hashlib, math, random\n",
    "import pandas as pd\n",
    "\n",
    "REQUIRED = [\"pandas\",\"gspread\",\"google-auth\",\"google-auth-oauthlib\",\"matplotlib\"]\n",
    "def ensure(pkgs):\n",
    "    miss=[]\n",
    "    for p in pkgs:\n",
    "        try: importlib.import_module(p.replace(\"-\",\"_\"))\n",
    "        except ModuleNotFoundError: miss.append(p)\n",
    "    if miss:\n",
    "        print(\"Instalando dependencias:\", \", \".join(miss))\n",
    "        subprocess.check_call([sys.executable,\"-m\",\"pip\",\"install\",*miss])\n",
    "    else:\n",
    "        print(\"Dependencias OK.\")\n",
    "ensure(REQUIRED)\n",
    "\n",
    "import matplotlib.pyplot as plt\n",
    "\n",
    "def br_money(x):\n",
    "    try: return \"R$ \" + f\"{float(x):,.2f}\".replace(\",\", \"X\").replace(\".\", \",\").replace(\"X\", \".\")\n",
    "    except Exception: return str(x)\n",
    "\n",
    "def padronizar_colunas(df, candidatos, destino):\n",
    "    for c in candidatos:\n",
    "        if c in df.columns and destino not in df.columns:\n",
    "            df.rename(columns={c: destino}, inplace=True); break\n",
    "\n",
    "def aplicar_canonicos(vendas=None, produtos=None, clientes=None, vendedores=None):\n",
    "    if produtos is not None:\n",
    "        padronizar_colunas(produtos, [\"produto_id\",\"product_id\",\"id_produto\",\"id\"], \"_product_id\")\n",
    "        padronizar_colunas(produtos, [\"produto\",\"product\",\"nome_produto\",\"descricao\",\"name\"], \"_product_nm\")\n",
    "        padronizar_colunas(produtos, [\"preco_venda\",\"preco\",\"price\",\"valor\"], \"price\")\n",
    "        padronizar_colunas(produtos, [\"custo\",\"cost\"], \"cost\")\n",
    "    if vendas is not None:\n",
    "        padronizar_colunas(vendas, [\"id_venda\",\"order_id\",\"pedido\"], \"order_id\")\n",
    "        padronizar_colunas(vendas, [\"id_produto\",\"produto_id\",\"product_id\",\"id_produto\"], \"_product_id\")\n",
    "        padronizar_colunas(vendas, [\"id_cliente\",\"cliente_id\",\"client_id\"], \"_client_id\")\n",
    "        padronizar_colunas(vendas, [\"id_vendedor\",\"vendedor_id\",\"seller_id\"], \"_seller_id\")\n",
    "        padronizar_colunas(vendas, [\"quantidade\",\"qtd\",\"qty\"], \"qty\")\n",
    "        padronizar_colunas(vendas, [\"preco\",\"price\",\"valor\"], \"price\")\n",
    "        padronizar_colunas(vendas, [\"data\",\"date\",\"data_venda\",\"dt_venda\"], \"date\")\n",
    "    if clientes is not None:\n",
    "        padronizar_colunas(clientes, [\"cliente_id\",\"client_id\",\"id_cliente\"], \"_client_id\")\n",
    "        padronizar_colunas(clientes, [\"cliente\",\"nome_cliente\",\"client\",\"name\"], \"_client_nm\")\n",
    "        padronizar_colunas(clientes, [\"cidade\",\"city\",\"municipio\"], \"_city\")\n",
    "    if vendedores is not None:\n",
    "        padronizar_colunas(vendedores, [\"vendedor_id\",\"seller_id\",\"id_vendedor\"], \"_seller_id\")\n",
    "        padronizar_colunas(vendedores, [\"vendedor\",\"seller\",\"nome_vendedor\",\"name\"], \"_seller_nm\")\n",
    "    return vendas, produtos, clientes, vendedores\n",
    "\n",
    "def validar_dados(vendas, produtos):\n",
    "    issues = {}\n",
    "    if \"qty\" in vendas.columns: issues[\"qtd_nao_positiva\"] = int((vendas[\"qty\"] <= 0).sum())\n",
    "    if \"price\" in vendas.columns: issues[\"preco_venda_negativo\"] = int((vendas[\"price\"] < 0).sum())\n",
    "    if \"date\" in vendas.columns:\n",
    "        try: pd.to_datetime(vendas[\"date\"], errors=\"raise\"); bad=0\n",
    "        except Exception:\n",
    "            parsed = pd.to_datetime(vendas[\"date\"], errors=\"coerce\"); bad=int(parsed.isna().sum())\n",
    "        issues[\"datas_invalidas\"] = bad\n",
    "    for col in [\"cost\",\"price\"]:\n",
    "        if produtos is not None and col in (produtos.columns if hasattr(produtos,'columns') else []):\n",
    "            issues[f\"produtos_sem_{col}\"] = int(produtos[col].isna().sum())\n",
    "    print(\"Checklist de validacao:\", issues); return issues\n",
    "\n",
    "print(\"Bootstrap OK.\")\n"
   ]
  },
  {
   "cell_type": "markdown",
   "id": "68d0b8a9",
   "metadata": {},
   "source": [
    "## Carregamento dos dados"
   ]
  },
  {
   "cell_type": "code",
   "execution_count": null,
   "id": "e9d5449c",
   "metadata": {},
   "outputs": [],
   "source": [
    "\n",
    "csv_path = \"data/samples/SmartSales_Dados.csv\"\n",
    "use_offline = os.path.exists(csv_path)\n",
    "\n",
    "if use_offline:\n",
    "    print(\"Modo offline: carregando\", csv_path)\n",
    "    vendas = pd.read_csv(csv_path)\n",
    "    # dimensoes sinteticas deterministicas\n",
    "    rng_cidades = [\"Porto Alegre\",\"Caxias do Sul\",\"Pelotas\",\"Santa Maria\",\"Canoas\",\"Novo Hamburgo\"]\n",
    "    def dhash(s):  # hash deterministico 0..1\n",
    "        h = hashlib.md5(str(s).encode()).hexdigest()\n",
    "        return int(h[:8],16) / 0xFFFFFFFF\n",
    "\n",
    "    # produtos\n",
    "    prod_ids = sorted(vendas[\"id_produto\"].dropna().unique())\n",
    "    produtos = pd.DataFrame({\n",
    "        \"_product_id\": prod_ids,\n",
    "        \"_product_nm\": [f\"Produto {pid}\" for pid in prod_ids],\n",
    "    })\n",
    "    # preco deterministico 20..300\n",
    "    produtos[\"price\"] = [round(20 + dhash(pid)*280, 2) for pid in produtos[\"_product_id\"]]\n",
    "    # custo = 60%..85% do preco\n",
    "    produtos[\"cost\"]  = [round(p * (0.6 + dhash(pid)*0.25), 2) for p,pid in zip(produtos[\"price\"], produtos[\"_product_id\"])]\n",
    "\n",
    "    # clientes\n",
    "    cli_ids = sorted(vendas[\"id_cliente\"].dropna().unique())\n",
    "    clientes = pd.DataFrame({\n",
    "        \"_client_id\": cli_ids,\n",
    "        \"_client_nm\": [f\"Cliente {cid}\" for cid in cli_ids],\n",
    "        \"_city\": [rng_cidades[ int(math.floor(dhash(cid)*len(rng_cidades))) ] for cid in cli_ids]\n",
    "    })\n",
    "\n",
    "    # vendedores\n",
    "    ven_ids = sorted(vendas[\"id_vendedor\"].dropna().unique())\n",
    "    vendedores = pd.DataFrame({\n",
    "        \"_seller_id\": ven_ids,\n",
    "        \"_seller_nm\": [f\"Vendedor {vid}\" for vid in ven_ids]\n",
    "    })\n",
    "\n",
    "    # padroniza vendas\n",
    "    vendas, produtos, clientes, vendedores = aplicar_canonicos(vendas, produtos, clientes, vendedores)\n",
    "    # cria price se nao existir em vendas (usa da dimensao apos merge)\n",
    "    # formata date\n",
    "    if \"date\" in vendas.columns:\n",
    "        vendas[\"date\"] = pd.to_datetime(vendas[\"date\"], errors=\"coerce\")\n",
    "    else:\n",
    "        pass\n",
    "    print(\"Tabelas carregadas: vendas, produtos, clientes, vendedores (sinteticos).\")\n",
    "else:\n",
    "    print(\"Modo Google Sheets: autentique (Colab: automatico; Local: Service Account).\")\n",
    "    # === Exemplo de como abrir uma planilha ===\n",
    "    # from google.colab import auth  # no Colab\n",
    "    # sh = gc.open_by_url(\"URL_DA_PLANILHA\")\n",
    "    # vendas = pd.DataFrame(sh.worksheet(\"Vendas\").get_all_records())\n",
    "    # produtos = pd.DataFrame(sh.worksheet(\"Produtos\").get_all_records())\n",
    "    # clientes = pd.DataFrame(sh.worksheet(\"Clientes\").get_all_records())\n",
    "    # vendedores = pd.DataFrame(sh.worksheet(\"Vendedores\").get_all_records())\n",
    "    # vendas, produtos, clientes, vendedores = aplicar_canonicos(vendas, produtos, clientes, vendedores)\n"
   ]
  },
  {
   "cell_type": "markdown",
   "id": "2aafb724",
   "metadata": {},
   "source": [
    "## Enriquecimento e checagens"
   ]
  },
  {
   "cell_type": "code",
   "execution_count": null,
   "id": "a56cd1e9",
   "metadata": {},
   "outputs": [],
   "source": [
    "\n",
    "# Merge de vendas com produtos para trazer price/cost se necessario\n",
    "if use_offline:\n",
    "    vendas_full = vendas.merge(produtos[[\"_product_id\",\"price\",\"cost\"]], on=\"_product_id\", how=\"left\", suffixes=(\"\",\"_prod\"))\n",
    "    # qty obrigatoria\n",
    "    if \"qty\" not in vendas_full.columns and \"quantidade\" in vendas.columns:\n",
    "        vendas_full.rename(columns={\"quantidade\":\"qty\"}, inplace=True)\n",
    "else:\n",
    "    vendas_full = vendas.copy()\n",
    "\n",
    "issues = validar_dados(vendas_full, produtos)\n",
    "vendas_full[\"receita\"] = vendas_full[\"qty\"] * vendas_full[\"price\"]\n",
    "vendas_full[\"custo_total\"] = vendas_full[\"qty\"] * vendas_full[\"cost\"]\n",
    "vendas_full[\"lucro\"] = vendas_full[\"receita\"] - vendas_full[\"custo_total\"]\n"
   ]
  },
  {
   "cell_type": "markdown",
   "id": "d1659ea7",
   "metadata": {},
   "source": [
    "## KPIs principais"
   ]
  },
  {
   "cell_type": "code",
   "execution_count": null,
   "id": "fb4d0c6c",
   "metadata": {},
   "outputs": [],
   "source": [
    "\n",
    "kpis = {}\n",
    "kpis[\"receita_total\"] = vendas_full[\"receita\"].sum()\n",
    "kpis[\"lucro_total\"] = vendas_full[\"lucro\"].sum()\n",
    "kpis[\"qtd_pedidos\"] = vendas_full[\"order_id\"].nunique() if \"order_id\" in vendas_full.columns else len(vendas_full)\n",
    "kpis[\"qtd_itens\"] = int(vendas_full[\"qty\"].sum())\n",
    "\n",
    "print(\"Receita:\", br_money(kpis[\"receita_total\"]))\n",
    "print(\"Lucro:\", br_money(kpis[\"lucro_total\"]))\n",
    "print(\"Pedidos:\", kpis[\"qtd_pedidos\"])\n",
    "print(\"Itens vendidos:\", kpis[\"qtd_itens\"])\n",
    "\n",
    "top_prod = (vendas_full.groupby(\"_product_id\", as_index=False)[\"receita\"].sum()\n",
    "            .merge(produtos[[\"_product_id\",\"_product_nm\"]], on=\"_product_id\", how=\"left\")\n",
    "            .sort_values(\"receita\", ascending=False).head(10))\n",
    "top_prod.head(10)\n"
   ]
  },
  {
   "cell_type": "markdown",
   "id": "cd22c9a0",
   "metadata": {},
   "source": [
    "## Compras por cidade"
   ]
  },
  {
   "cell_type": "code",
   "execution_count": null,
   "id": "6ceaa2c8",
   "metadata": {},
   "outputs": [],
   "source": [
    "\n",
    "if \"_client_id\" in vendas_full.columns:\n",
    "    tmp = vendas_full.merge(clientes[[\"_client_id\",\"_city\"]], on=\"_client_id\", how=\"left\")\n",
    "    if \"order_id\" in tmp.columns:\n",
    "        compras_por_cidade = (tmp.dropna(subset=[\"_city\"])\n",
    "                                .groupby(\"_city\")[\"order_id\"].nunique()\n",
    "                                .reset_index(name=\"qtd_compras\")\n",
    "                                .sort_values(\"qtd_compras\", ascending=False))\n",
    "    else:\n",
    "        compras_por_cidade = (tmp.dropna(subset=[\"_city\"]).groupby(\"_city\", as_index=False).size()\n",
    "                                .rename(columns={\"size\":\"qtd_compras\"})\n",
    "                                .sort_values(\"qtd_compras\", ascending=False))\n",
    "    compras_por_cidade.head(10)\n",
    "else:\n",
    "    print(\"Sem _client_id para calcular compras por cidade.\")\n"
   ]
  },
  {
   "cell_type": "markdown",
   "id": "62d96074",
   "metadata": {},
   "source": [
    "## Gráfico – Top produtos por receita"
   ]
  },
  {
   "cell_type": "code",
   "execution_count": null,
   "id": "ed4c0a67",
   "metadata": {},
   "outputs": [],
   "source": [
    "\n",
    "plt.figure(figsize=(8,4))\n",
    "plot_df = top_prod.head(8)\n",
    "plt.bar(plot_df[\"_product_nm\"].astype(str), plot_df[\"receita\"])\n",
    "plt.title(\"Top 8 produtos por receita\")\n",
    "plt.xticks(rotation=45, ha=\"right\")\n",
    "plt.ylabel(\"Receita (R$)\")\n",
    "plt.tight_layout()\n",
    "plt.show()\n"
   ]
  }
 ],
 "metadata": {
  "kernelspec": {
   "display_name": "Python 3",
   "language": "python",
   "name": "python3"
  },
  "language_info": {
   "codemirror_mode": {
    "name": "ipython",
    "version": 3
   },
   "file_extension": ".py",
   "mimetype": "text/x-python",
   "name": "python",
   "nbconvert_exporter": "python",
   "pygments_lexer": "ipython3",
   "version": "3.13.5"
  }
 },
 "nbformat": 4,
 "nbformat_minor": 5
}
